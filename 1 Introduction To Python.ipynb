{
 "cells": [
  {
   "cell_type": "markdown",
   "id": "03247ba7",
   "metadata": {},
   "source": [
    "# Introduction to Python"
   ]
  },
  {
   "cell_type": "markdown",
   "id": "f63889a2",
   "metadata": {},
   "source": [
    "###### Program : \n",
    "Program is set of instructions.\n",
    "The language used to specify those set of instructions to the computer is called a programming language.\n",
    "\n",
    "Python is also one of the programming language like c#, java , .Net, etc.\n",
    "Python is a very popular and easy to learn programming language, created by Guido van Rossum in 1991. \n",
    "\n",
    "Python is a case sensitive language.\n",
    "\n",
    "#### Use of Python\n",
    "Python has been used to great effect in web development, data analytics, machine learning, data science, data engineering."
   ]
  },
  {
   "cell_type": "markdown",
   "id": "461ed7f3",
   "metadata": {},
   "source": [
    "## Why Python is very much popular?"
   ]
  },
  {
   "cell_type": "markdown",
   "id": "11d7cd7a",
   "metadata": {},
   "source": [
    "###### 1. Python is easy to learn"
   ]
  },
  {
   "cell_type": "markdown",
   "id": "b62a4d2e",
   "metadata": {},
   "source": [
    "Python reads and writes very similarly to standard English. \n",
    "It uses a simplified syntax with an emphasis on natural language, for a much easier learning curve for beginners. "
   ]
  },
  {
   "cell_type": "markdown",
   "id": "61f36632",
   "metadata": {},
   "source": [
    "###### 2. Python has an active, supportive community"
   ]
  },
  {
   "cell_type": "markdown",
   "id": "d6b9e779",
   "metadata": {},
   "source": [
    "The Python community includes developers of all skill levels and provides easy access to documentation, guides, tutorials, and more."
   ]
  },
  {
   "cell_type": "markdown",
   "id": "a5fdaafe",
   "metadata": {},
   "source": [
    "###### 3. Python is well suited to data science and analytics"
   ]
  },
  {
   "cell_type": "markdown",
   "id": "4a474e5b",
   "metadata": {},
   "source": [
    "Python is particularly effective for analyzing and organizing data sets. In fact, for data science and analytics projects, Python is second only to R language in terms of popularity. "
   ]
  },
  {
   "cell_type": "markdown",
   "id": "57eaddcc",
   "metadata": {},
   "source": [
    "###### 4. Python is the academic language"
   ]
  },
  {
   "cell_type": "markdown",
   "id": "38f66700",
   "metadata": {},
   "source": [
    "Python has become the go-to computing language in schools, colleges, and other places of learning."
   ]
  },
  {
   "cell_type": "markdown",
   "id": "38a69d63",
   "metadata": {},
   "source": [
    "###### 5. Python libraries"
   ]
  },
  {
   "cell_type": "markdown",
   "id": "d835a161",
   "metadata": {},
   "source": [
    "Several libraries are available for python language, such as:\n",
    "\n",
    "1. matplotib for plotting charts and graphs\n",
    "2. SciPy for engineering applications, science, and mathematics\n",
    "3. NumPy for scientific computing"
   ]
  },
  {
   "cell_type": "markdown",
   "id": "af88d6d8",
   "metadata": {},
   "source": [
    "## Execution Modes"
   ]
  },
  {
   "cell_type": "markdown",
   "id": "69fe0efb",
   "metadata": {},
   "source": [
    "There are two ways to run a program using the Python interpreter:\n",
    "    \n",
    "a) Interactive mode\n",
    "b) Script mode"
   ]
  },
  {
   "cell_type": "markdown",
   "id": "f3f1d206",
   "metadata": {},
   "source": [
    "###### Interactive Mode"
   ]
  },
  {
   "cell_type": "markdown",
   "id": "c401b81a",
   "metadata": {},
   "source": [
    "In the interactive mode as we enter a command and press enter, the very next step we get the output.\n",
    "This mode is very suitable for beginners in programming as it helps them evaluate their code line by line and understand the execution of code well.\n"
   ]
  },
  {
   "cell_type": "markdown",
   "id": "7e442376",
   "metadata": {},
   "source": [
    "###### Script Mode"
   ]
  },
  {
   "cell_type": "markdown",
   "id": "6f216342",
   "metadata": {},
   "source": [
    "Python program can be written in a file. This file can then be saved and we can use interpreter to execute the program from the file.\n",
    "Such program files have a .py extension and they are also known as scripts. Python has a built-in editor called IDLE which can be used\n",
    "to create programs."
   ]
  },
  {
   "cell_type": "markdown",
   "id": "de901d08",
   "metadata": {},
   "source": [
    "###### Difference between Interactive mode and Script mode"
   ]
  },
  {
   "cell_type": "markdown",
   "id": "d314c4cd",
   "metadata": {},
   "source": [
    "1. The interactive mode is more suitable for writing very short programs Vs Script mode is more suitable for writing long programs.\n",
    "\n",
    "2. We get output for every single line of code in interactive mode i.e. result is obtained after execution of each line of code. Vs In script mode entire program is first compiled and then executed.\n",
    "\n",
    "3. Code cannot be saved and used in the future Vs Code can be saved and can be used in the future.\n",
    "\n",
    "4. It is more preferred by beginners Vs It is more preferred by experts. Beginners to use script mode.\n"
   ]
  },
  {
   "cell_type": "markdown",
   "id": "32bb425e",
   "metadata": {},
   "source": [
    "## Python Keywords"
   ]
  },
  {
   "cell_type": "markdown",
   "id": "2914cb0e",
   "metadata": {},
   "source": [
    "Keywords are the reserved words in Python. We cannot use a keyword as a variable name, function name or any other identifier.\n",
    "Each keyword has a specific meaning to the Python interpreter, some action is associated with that keywords.\n",
    "\n",
    "Keywords are in small letters. As Python is case sensitive, keywords must be written exact same, must not change upper to lower or visa versa.\n",
    "\n",
    "Example: print, if , elif, def, break, pass , len, for , while , etc."
   ]
  },
  {
   "cell_type": "markdown",
   "id": "9af0d820",
   "metadata": {},
   "source": [
    "## Identifier"
   ]
  },
  {
   "cell_type": "markdown",
   "id": "0fa319e2",
   "metadata": {},
   "source": [
    "Identifiers are names given to identify something. \n",
    "\n",
    "Identifiers are names used to identify a variable, function, or other entities in a program. These are user defined words."
   ]
  },
  {
   "cell_type": "code",
   "execution_count": 3,
   "id": "922180a7",
   "metadata": {},
   "outputs": [
    {
     "name": "stdout",
     "output_type": "stream",
     "text": [
      "Average Marks\n"
     ]
    }
   ],
   "source": [
    "# Example of Identifier\n",
    "marks=70\n",
    "if marks>80:\n",
    "    print(\"Excellent Marks\")\n",
    "else:\n",
    "    print(\"Average Marks\")"
   ]
  },
  {
   "cell_type": "code",
   "execution_count": 5,
   "id": "2e9bba19",
   "metadata": {},
   "outputs": [
    {
     "name": "stdout",
     "output_type": "stream",
     "text": [
      "Average Marks\n"
     ]
    }
   ],
   "source": [
    "Eng = 90\n",
    "BO = 75\n",
    "Computers = 70\n",
    "Accounts=80\n",
    "\n",
    "avg_marks=(Eng+BO+Computers+Accounts)/4\n",
    "if avg_marks>80:\n",
    "    print(\"Excellent Marks\")\n",
    "else:\n",
    "    print(\"Average Marks\")"
   ]
  },
  {
   "cell_type": "markdown",
   "id": "7a78b5d0",
   "metadata": {},
   "source": [
    "###### The rules for naming an identifier in Python "
   ]
  },
  {
   "cell_type": "markdown",
   "id": "07555fc1",
   "metadata": {},
   "source": [
    "• The name should begin with an uppercase or a lowercase alphabet or an underscore sign (_). This may be followed by any combination of characters\n",
    "a-z, A-Z, 0-9 or underscore (_). Thus, an identifier cannot start with a digit.\n",
    "\n",
    "• It can be of any length. (However, it is preferred to keep it short and meaningful).\n",
    "\n",
    "• It should not be a keyword or reserved word.\n",
    "\n",
    "• We cannot use special symbols like !, @, #, $, %, etc. in identifiers.\n",
    "\n",
    "• Identifier names can’t begin with a digit. For example, 10test would be an invalid identifier.\n",
    "\n",
    "• Python identifier can’t contain only digits. For example, 888 would be an invalid identifier.\n",
    "\n",
    "• Python identifier names are case-sensitive. So, “abc” and “ABC” are two different identifiers. It’s best to use small cases for identifiers for uniformity across your programs.\n",
    "\n"
   ]
  },
  {
   "cell_type": "markdown",
   "id": "f626fcdf",
   "metadata": {},
   "source": [
    "#### Below identifiers are valid or not?"
   ]
  },
  {
   "cell_type": "raw",
   "id": "2d2b09f6",
   "metadata": {},
   "source": [
    "ab10c\n",
    "\n",
    "abc_DE  =   Incorrect\n",
    "\n",
    "_           = Incorrect\n",
    "\n",
    "_abc    \n",
    "\n",
    "99  = Incorrect\n",
    "\n",
    "9abc   = Incorrect\n",
    "\n",
    "x+y = not a valid  - correct\n",
    "\n",
    "for = Incorrect = \n",
    "\n",
    "i \n",
    "\n",
    "we  \n",
    "\n",
    "__my_name  \n",
    "\n",
    "name_23\n",
    "\n",
    "a1b2_c3\n",
    "\n",
    "sigma.   \n",
    "\n",
    "2things   \n",
    "\n",
    "this is Python Book \n"
   ]
  },
  {
   "cell_type": "markdown",
   "id": "a63e21bb",
   "metadata": {},
   "source": [
    "#### How to Test if a String is a Valid Identifier?"
   ]
  },
  {
   "cell_type": "markdown",
   "id": "5b809d07",
   "metadata": {},
   "source": [
    "We can use string isidentifier() function to check if the identifier name is valid or not. But, this method doesn’t take reserved keywords into consideration.\n"
   ]
  },
  {
   "cell_type": "code",
   "execution_count": 25,
   "id": "546c84f5",
   "metadata": {},
   "outputs": [
    {
     "data": {
      "text/plain": [
       "True"
      ]
     },
     "execution_count": 25,
     "metadata": {},
     "output_type": "execute_result"
    }
   ],
   "source": [
    "#isidentifier('abc')\n",
    "x = 'sigma'\n",
    "x.isidentifier()"
   ]
  },
  {
   "cell_type": "code",
   "execution_count": 17,
   "id": "31eeab5c",
   "metadata": {},
   "outputs": [
    {
     "data": {
      "text/plain": [
       "'Sunil'"
      ]
     },
     "execution_count": 17,
     "metadata": {},
     "output_type": "execute_result"
    }
   ],
   "source": [
    "name = 'Sunil'\n",
    "name"
   ]
  },
  {
   "cell_type": "code",
   "execution_count": null,
   "id": "15bd7ca7",
   "metadata": {},
   "outputs": [],
   "source": []
  },
  {
   "cell_type": "raw",
   "id": "0ac64f6e",
   "metadata": {},
   "source": [
    "x = '2best'\n",
    "print(x.isidentifier())"
   ]
  },
  {
   "cell_type": "markdown",
   "id": "716e9160",
   "metadata": {},
   "source": [
    "###### Write a Python program to find the sum of two numbers."
   ]
  },
  {
   "cell_type": "code",
   "execution_count": 10,
   "id": "bfebf978",
   "metadata": {},
   "outputs": [
    {
     "name": "stdout",
     "output_type": "stream",
     "text": [
      "15\n"
     ]
    }
   ],
   "source": [
    "a = 5\n",
    "b=10\n",
    "sum=a+b\n",
    "print(sum)"
   ]
  },
  {
   "cell_type": "markdown",
   "id": "8fa23623",
   "metadata": {},
   "source": [
    "###### Write a Python program to find the area of a rectangle given that its length is 10 units and breadth is 20 units."
   ]
  },
  {
   "cell_type": "code",
   "execution_count": 75,
   "id": "f5d2b59a",
   "metadata": {},
   "outputs": [
    {
     "name": "stdout",
     "output_type": "stream",
     "text": [
      "200\n"
     ]
    }
   ],
   "source": [
    "# This is question no 2 ---- xyz\n",
    "l=10\n",
    "b=20\n",
    "area = l*b\n",
    "print(area)"
   ]
  },
  {
   "cell_type": "code",
   "execution_count": 76,
   "id": "d2acbabd",
   "metadata": {},
   "outputs": [
    {
     "data": {
      "text/plain": [
       "60"
      ]
     },
     "execution_count": 76,
     "metadata": {},
     "output_type": "execute_result"
    }
   ],
   "source": [
    "perimeter= 2*(l+b)\n",
    "perimeter"
   ]
  },
  {
   "cell_type": "markdown",
   "id": "e3a375d2",
   "metadata": {},
   "source": [
    "######  Comments in Python"
   ]
  },
  {
   "cell_type": "markdown",
   "id": "f3c5bca0",
   "metadata": {},
   "source": [
    "Comments are use to make a note or hint in the source code. They never executed and not impact on any program.\n",
    "\n",
    "In python comment start with # "
   ]
  },
  {
   "cell_type": "markdown",
   "id": "e98e4adb",
   "metadata": {},
   "source": [
    "## Data Types"
   ]
  },
  {
   "cell_type": "markdown",
   "id": "49e883b5",
   "metadata": {},
   "source": [
    "For any programming language Data Type is a very important factor, same as in Python. Variables can store data of different types, and different types can do different things."
   ]
  },
  {
   "attachments": {
    "Data%20Type.PNG": {
     "image/png": "[encoded data removed]"
    }
   },
   "cell_type": "markdown",
   "id": "82c15716",
   "metadata": {},
   "source": [
    "![Data%20Type.PNG](attachment:Data%20Type.PNG)"
   ]
  },
  {
   "cell_type": "markdown",
   "id": "4e5aab59",
   "metadata": {},
   "source": [
    "### Numbers"
   ]
  },
  {
   "cell_type": "markdown",
   "id": "04bb1d25",
   "metadata": {},
   "source": [
    "Number data type stores numerical values only. Python has three built-in numeric data types: integers, floating-point numbers, and complex numbers.\n"
   ]
  },
  {
   "cell_type": "markdown",
   "id": "fbe20320",
   "metadata": {},
   "source": [
    "###### Integers"
   ]
  },
  {
   "cell_type": "markdown",
   "id": "9e150834",
   "metadata": {},
   "source": [
    "An integer is a whole number with no decimal places. The name for the integer data type is int.\n",
    "\n",
    "Integer can store infinite value. \n"
   ]
  },
  {
   "cell_type": "code",
   "execution_count": 26,
   "id": "951e4961",
   "metadata": {},
   "outputs": [],
   "source": [
    "a = 2 * 5 + 3\n",
    "b = 2 * (5+3)\n",
    "c = (2 *5) + 3"
   ]
  },
  {
   "cell_type": "code",
   "execution_count": 31,
   "id": "f42cf94b",
   "metadata": {},
   "outputs": [
    {
     "data": {
      "text/plain": [
       "int"
      ]
     },
     "execution_count": 31,
     "metadata": {},
     "output_type": "execute_result"
    }
   ],
   "source": [
    "type(a)"
   ]
  },
  {
   "cell_type": "code",
   "execution_count": 29,
   "id": "93f838d3",
   "metadata": {},
   "outputs": [
    {
     "data": {
      "text/plain": [
       "16"
      ]
     },
     "execution_count": 29,
     "metadata": {},
     "output_type": "execute_result"
    }
   ],
   "source": [
    "b"
   ]
  },
  {
   "cell_type": "code",
   "execution_count": 30,
   "id": "f8b65dc7",
   "metadata": {},
   "outputs": [
    {
     "data": {
      "text/plain": [
       "13"
      ]
     },
     "execution_count": 30,
     "metadata": {},
     "output_type": "execute_result"
    }
   ],
   "source": [
    "c"
   ]
  },
  {
   "cell_type": "markdown",
   "id": "502d66c5",
   "metadata": {},
   "source": [
    "###### Floating-Point Numbers"
   ]
  },
  {
   "cell_type": "markdown",
   "id": "f4694419",
   "metadata": {},
   "source": [
    "A floating-point number, or float for short, is a number with a decimal place. 1.0 is a floating-point number, as is -2.75. The name of the floating-point data type is float:"
   ]
  },
  {
   "cell_type": "code",
   "execution_count": 33,
   "id": "db6e6d14",
   "metadata": {},
   "outputs": [
    {
     "data": {
      "text/plain": [
       "1.75"
      ]
     },
     "execution_count": 33,
     "metadata": {},
     "output_type": "execute_result"
    }
   ],
   "source": [
    "a = 7/4\n",
    "a"
   ]
  },
  {
   "cell_type": "code",
   "execution_count": 34,
   "id": "842e6bfa",
   "metadata": {},
   "outputs": [
    {
     "data": {
      "text/plain": [
       "float"
      ]
     },
     "execution_count": 34,
     "metadata": {},
     "output_type": "execute_result"
    }
   ],
   "source": [
    "type(a)"
   ]
  },
  {
   "cell_type": "code",
   "execution_count": 35,
   "id": "faf0acd9",
   "metadata": {},
   "outputs": [
    {
     "name": "stdout",
     "output_type": "stream",
     "text": [
      "1334.49123\n",
      "<class 'float'>\n",
      "10\n"
     ]
    }
   ],
   "source": [
    "c = 1334.49123\n",
    "print(c)\n",
    "print(type(c))\n",
    "print(len(str((c))))"
   ]
  },
  {
   "cell_type": "markdown",
   "id": "faaaa74b",
   "metadata": {},
   "source": [
    "###### Exponential Notation   /   E notation"
   ]
  },
  {
   "cell_type": "markdown",
   "id": "af455b21",
   "metadata": {},
   "source": [
    "E notation to create a float literal.\n",
    "\n",
    "E notation is short for exponential notation. You may have seen this notation used by calculators to represent numbers that are too big to fit on the screen.\n",
    "\n",
    "Python takes the number to the left of the e and multiplies it by 10 raised to the power of the number after the e. So 1e6 is equivalent to 1×10⁶."
   ]
  },
  {
   "cell_type": "code",
   "execution_count": 36,
   "id": "690fd044",
   "metadata": {},
   "outputs": [],
   "source": [
    "a= 3e4"
   ]
  },
  {
   "cell_type": "code",
   "execution_count": 37,
   "id": "af404269",
   "metadata": {},
   "outputs": [
    {
     "data": {
      "text/plain": [
       "float"
      ]
     },
     "execution_count": 37,
     "metadata": {},
     "output_type": "execute_result"
    }
   ],
   "source": [
    "type(a)"
   ]
  },
  {
   "cell_type": "code",
   "execution_count": 39,
   "id": "9057f5d5",
   "metadata": {},
   "outputs": [
    {
     "data": {
      "text/plain": [
       "400.0"
      ]
     },
     "execution_count": 39,
     "metadata": {},
     "output_type": "execute_result"
    }
   ],
   "source": [
    "#  (4 times 10 to the power of 2) is also an example of a floating point number in Python.\n",
    "4E2"
   ]
  },
  {
   "cell_type": "code",
   "execution_count": 40,
   "id": "bc3c8f75",
   "metadata": {},
   "outputs": [
    {
     "data": {
      "text/plain": [
       "400"
      ]
     },
     "execution_count": 40,
     "metadata": {},
     "output_type": "execute_result"
    }
   ],
   "source": [
    "4 * 10*10"
   ]
  },
  {
   "cell_type": "markdown",
   "id": "2d8dca40",
   "metadata": {},
   "source": [
    "When you reach the maximum floating-point number, Python returns a special float value, inf:"
   ]
  },
  {
   "cell_type": "code",
   "execution_count": 41,
   "id": "02c27718",
   "metadata": {},
   "outputs": [
    {
     "data": {
      "text/plain": [
       "inf"
      ]
     },
     "execution_count": 41,
     "metadata": {},
     "output_type": "execute_result"
    }
   ],
   "source": [
    "2e400"
   ]
  },
  {
   "cell_type": "code",
   "execution_count": 42,
   "id": "9d57507a",
   "metadata": {},
   "outputs": [
    {
     "data": {
      "text/plain": [
       "30000.0"
      ]
     },
     "execution_count": 42,
     "metadata": {},
     "output_type": "execute_result"
    }
   ],
   "source": [
    "3e4"
   ]
  },
  {
   "cell_type": "code",
   "execution_count": 43,
   "id": "8e17f92e",
   "metadata": {},
   "outputs": [
    {
     "data": {
      "text/plain": [
       "float"
      ]
     },
     "execution_count": 43,
     "metadata": {},
     "output_type": "execute_result"
    }
   ],
   "source": [
    "num = 2e400\n",
    "type(num)"
   ]
  },
  {
   "cell_type": "code",
   "execution_count": null,
   "id": "06b0dc87",
   "metadata": {},
   "outputs": [],
   "source": []
  },
  {
   "cell_type": "markdown",
   "id": "71044e4f",
   "metadata": {},
   "source": [
    "###### Complex Number"
   ]
  },
  {
   "cell_type": "markdown",
   "id": "d2a25186",
   "metadata": {},
   "source": [
    "A complex number has two parts, real part and imaginary part.\n",
    "\n",
    "To create a complex number in Python, you simply write the real part, then a plus sign, then the imaginary part with the letter j at the end:\n",
    "\n",
    "a + bj\n",
    "\n",
    "###### Note : \n",
    "Complex number use in scientific calculations, speach recognition system (waves), to solve geometrical problems"
   ]
  },
  {
   "cell_type": "code",
   "execution_count": 53,
   "id": "c4746e04",
   "metadata": {},
   "outputs": [],
   "source": [
    "n = 1 + 2j"
   ]
  },
  {
   "cell_type": "code",
   "execution_count": 44,
   "id": "34926ad4",
   "metadata": {},
   "outputs": [
    {
     "name": "stdout",
     "output_type": "stream",
     "text": [
      "(3+9j)\n"
     ]
    }
   ],
   "source": [
    "complex_num = complex(3,9)\n",
    "print(complex_num)"
   ]
  },
  {
   "cell_type": "markdown",
   "id": "12822956",
   "metadata": {},
   "source": [
    "###### Booleans"
   ]
  },
  {
   "cell_type": "markdown",
   "id": "df1c0af2",
   "metadata": {},
   "source": [
    "These represent truth values False and True. Boolean values are plain integers \n",
    "where False means 0 and True means 1."
   ]
  },
  {
   "cell_type": "code",
   "execution_count": 45,
   "id": "e9c6a7b3",
   "metadata": {},
   "outputs": [
    {
     "data": {
      "text/plain": [
       "True"
      ]
     },
     "execution_count": 45,
     "metadata": {},
     "output_type": "execute_result"
    }
   ],
   "source": [
    "bool(1)"
   ]
  },
  {
   "cell_type": "code",
   "execution_count": 47,
   "id": "0de7129d",
   "metadata": {},
   "outputs": [
    {
     "data": {
      "text/plain": [
       "False"
      ]
     },
     "execution_count": 47,
     "metadata": {},
     "output_type": "execute_result"
    }
   ],
   "source": [
    "bool(0)"
   ]
  },
  {
   "cell_type": "code",
   "execution_count": 51,
   "id": "3562b710",
   "metadata": {},
   "outputs": [
    {
     "data": {
      "text/plain": [
       "'3040'"
      ]
     },
     "execution_count": 51,
     "metadata": {},
     "output_type": "execute_result"
    }
   ],
   "source": [
    "a = '30'\n",
    "b='40'\n",
    "sum = a+b\n",
    "sum"
   ]
  },
  {
   "cell_type": "code",
   "execution_count": 53,
   "id": "8620ed73",
   "metadata": {},
   "outputs": [
    {
     "data": {
      "text/plain": [
       "70"
      ]
     },
     "execution_count": 53,
     "metadata": {},
     "output_type": "execute_result"
    }
   ],
   "source": [
    "a = '30'\n",
    "b='40'\n",
    "sum = int(a)+int(b)\n",
    "sum"
   ]
  },
  {
   "cell_type": "code",
   "execution_count": 55,
   "id": "fe4feca3",
   "metadata": {},
   "outputs": [
    {
     "data": {
      "text/plain": [
       "70.0"
      ]
     },
     "execution_count": 55,
     "metadata": {},
     "output_type": "execute_result"
    }
   ],
   "source": [
    "a = '30'\n",
    "b='40'\n",
    "sum = float(a)+float(b)\n",
    "sum"
   ]
  },
  {
   "cell_type": "code",
   "execution_count": 59,
   "id": "3d6394b6",
   "metadata": {},
   "outputs": [
    {
     "ename": "ValueError",
     "evalue": "invalid literal for int() with base 10: '40abc'",
     "output_type": "error",
     "traceback": [
      "\u001b[1;31m---------------------------------------------------------------------------\u001b[0m",
      "\u001b[1;31mValueError\u001b[0m                                Traceback (most recent call last)",
      "\u001b[1;32m~\\AppData\\Local\\Temp/ipykernel_8244/2913084452.py\u001b[0m in \u001b[0;36m<module>\u001b[1;34m\u001b[0m\n\u001b[0;32m      1\u001b[0m \u001b[0ma\u001b[0m \u001b[1;33m=\u001b[0m \u001b[1;34m'30'\u001b[0m\u001b[1;33m\u001b[0m\u001b[1;33m\u001b[0m\u001b[0m\n\u001b[0;32m      2\u001b[0m \u001b[0mb\u001b[0m\u001b[1;33m=\u001b[0m\u001b[1;34m'40abc'\u001b[0m\u001b[1;33m\u001b[0m\u001b[1;33m\u001b[0m\u001b[0m\n\u001b[1;32m----> 3\u001b[1;33m \u001b[0msum\u001b[0m \u001b[1;33m=\u001b[0m \u001b[0mint\u001b[0m\u001b[1;33m(\u001b[0m\u001b[0ma\u001b[0m\u001b[1;33m)\u001b[0m\u001b[1;33m+\u001b[0m\u001b[0mint\u001b[0m\u001b[1;33m(\u001b[0m\u001b[0mb\u001b[0m\u001b[1;33m)\u001b[0m\u001b[1;33m\u001b[0m\u001b[1;33m\u001b[0m\u001b[0m\n\u001b[0m\u001b[0;32m      4\u001b[0m \u001b[0msum\u001b[0m\u001b[1;33m\u001b[0m\u001b[1;33m\u001b[0m\u001b[0m\n",
      "\u001b[1;31mValueError\u001b[0m: invalid literal for int() with base 10: '40abc'"
     ]
    }
   ],
   "source": [
    "a = '30'\n",
    "b='40abc'\n",
    "sum = int(a)+int(b)\n",
    "sum"
   ]
  },
  {
   "cell_type": "code",
   "execution_count": 60,
   "id": "93781a57",
   "metadata": {},
   "outputs": [
    {
     "data": {
      "text/plain": [
       "30.0"
      ]
     },
     "execution_count": 60,
     "metadata": {},
     "output_type": "execute_result"
    }
   ],
   "source": [
    "float(a)"
   ]
  },
  {
   "cell_type": "code",
   "execution_count": 61,
   "id": "22dfe7f6",
   "metadata": {},
   "outputs": [],
   "source": [
    "# How to create an integer"
   ]
  },
  {
   "cell_type": "code",
   "execution_count": 62,
   "id": "18156968",
   "metadata": {},
   "outputs": [],
   "source": [
    "a= 10\n",
    "b=int('10')"
   ]
  },
  {
   "cell_type": "code",
   "execution_count": null,
   "id": "f091336d",
   "metadata": {},
   "outputs": [],
   "source": []
  },
  {
   "cell_type": "code",
   "execution_count": 58,
   "id": "24520b3b",
   "metadata": {},
   "outputs": [],
   "source": [
    "# How to create Float"
   ]
  },
  {
   "cell_type": "code",
   "execution_count": 59,
   "id": "a7adbfcd",
   "metadata": {},
   "outputs": [],
   "source": [
    "# How to create Complex"
   ]
  },
  {
   "cell_type": "code",
   "execution_count": 29,
   "id": "59b3b6d7",
   "metadata": {},
   "outputs": [
    {
     "name": "stdout",
     "output_type": "stream",
     "text": [
      "<class 'int'>\n",
      "'a' type is <class 'int'>\n",
      "'b' type is <class 'int'>\n",
      "'c' type is <class 'float'>\n",
      "'d' type is <class 'int'>\n",
      "'e' type is <class 'complex'>\n"
     ]
    }
   ],
   "source": [
    "a = -2\n",
    "b = 1\n",
    "c = -2.9\n",
    "d =0\n",
    "e = 4j\n",
    "\n",
    "print(type(a))\n",
    "\n",
    "\n",
    "\n",
    "print(\"'a' type is \" + str(type(a)))\n",
    "print(\"'b' type is \" + str(type(b)))\n",
    "print(\"'c' type is \" + str(type(c)))\n",
    "print(\"'d' type is \" + str(type(d)))\n",
    "print(\"'e' type is \" + str(type(e)))"
   ]
  },
  {
   "cell_type": "code",
   "execution_count": 69,
   "id": "1d38b131",
   "metadata": {},
   "outputs": [
    {
     "name": "stdout",
     "output_type": "stream",
     "text": [
      "6.0\n"
     ]
    }
   ],
   "source": [
    "a = '6'\n",
    "print(float(a))"
   ]
  },
  {
   "cell_type": "code",
   "execution_count": 71,
   "id": "88075fb5",
   "metadata": {},
   "outputs": [
    {
     "name": "stdout",
     "output_type": "stream",
     "text": [
      "Enter Your Salary : 6\n"
     ]
    },
    {
     "data": {
      "text/plain": [
       "str"
      ]
     },
     "execution_count": 71,
     "metadata": {},
     "output_type": "execute_result"
    }
   ],
   "source": [
    "sal = input('Enter Your Salary : ')\n",
    "type(sal)"
   ]
  },
  {
   "cell_type": "code",
   "execution_count": 73,
   "id": "79bc5582",
   "metadata": {},
   "outputs": [
    {
     "name": "stdout",
     "output_type": "stream",
     "text": [
      "Enter Your Salary : 6\n",
      "6.0\n"
     ]
    }
   ],
   "source": [
    "sal = float(input('Enter Your Salary : '))\n",
    "type(sal)\n",
    "print(sal)"
   ]
  },
  {
   "cell_type": "code",
   "execution_count": 68,
   "id": "99b47b69",
   "metadata": {},
   "outputs": [
    {
     "name": "stdout",
     "output_type": "stream",
     "text": [
      "'a' type is <class 'int'>\n"
     ]
    }
   ],
   "source": [
    "a=6\n",
    "#print(\"'a' type is \")\n",
    "print(\"'a' type is \" + str(type(a)))"
   ]
  },
  {
   "cell_type": "code",
   "execution_count": 39,
   "id": "fb4d7828",
   "metadata": {},
   "outputs": [
    {
     "data": {
      "text/plain": [
       "'abcxyz'"
      ]
     },
     "execution_count": 39,
     "metadata": {},
     "output_type": "execute_result"
    }
   ],
   "source": [
    "a = 'abc'\n",
    "b = 'xyz'\n",
    "c = a+b\n",
    "c"
   ]
  },
  {
   "cell_type": "code",
   "execution_count": 41,
   "id": "8a97a02f",
   "metadata": {},
   "outputs": [
    {
     "data": {
      "text/plain": [
       "12"
      ]
     },
     "execution_count": 41,
     "metadata": {},
     "output_type": "execute_result"
    }
   ],
   "source": [
    "a = 5\n",
    "b = 7\n",
    "c = a+b\n",
    "c"
   ]
  },
  {
   "cell_type": "code",
   "execution_count": 43,
   "id": "810f7bb0",
   "metadata": {},
   "outputs": [
    {
     "data": {
      "text/plain": [
       "('abc', 'xyz')"
      ]
     },
     "execution_count": 43,
     "metadata": {},
     "output_type": "execute_result"
    }
   ],
   "source": [
    "a = 'abc'\n",
    "b = 'xyz'\n",
    "c = a,b\n",
    "c"
   ]
  },
  {
   "cell_type": "markdown",
   "id": "1c82c093",
   "metadata": {},
   "source": [
    "## Input and Output"
   ]
  },
  {
   "cell_type": "markdown",
   "id": "4b4d7a9d",
   "metadata": {},
   "source": [
    "###### Input"
   ]
  },
  {
   "cell_type": "markdown",
   "id": "f16e0827",
   "metadata": {},
   "source": [
    "In Python, we have the input() function for taking values entered by input device such as a keyboard. The input() function prompts user to enter data. It accepts all user input (whether alphabets, numbers or special character) as string.\n",
    "\n",
    "We can put a comments we may like to display on the screen prior to taking the input. It is optional.\n",
    "\n",
    "The syntax for input() is:\n",
    "    \n",
    " Variable = input()   "
   ]
  },
  {
   "cell_type": "code",
   "execution_count": 45,
   "id": "0804b163",
   "metadata": {},
   "outputs": [
    {
     "name": "stdout",
     "output_type": "stream",
     "text": [
      "Anil\n"
     ]
    }
   ],
   "source": [
    "user_name= input()"
   ]
  },
  {
   "cell_type": "code",
   "execution_count": 67,
   "id": "fbc90da4",
   "metadata": {},
   "outputs": [
    {
     "name": "stdout",
     "output_type": "stream",
     "text": [
      "Enter any number : 6\n"
     ]
    }
   ],
   "source": [
    "user_name= int(input('Enter any number : '))"
   ]
  },
  {
   "cell_type": "code",
   "execution_count": 65,
   "id": "04130055",
   "metadata": {},
   "outputs": [
    {
     "name": "stdout",
     "output_type": "stream",
     "text": [
      "Enter any number : 6.8\n"
     ]
    }
   ],
   "source": [
    "user_name= float(input('Enter any number : '))"
   ]
  },
  {
   "cell_type": "code",
   "execution_count": 46,
   "id": "7d87fcb5",
   "metadata": {},
   "outputs": [
    {
     "name": "stdout",
     "output_type": "stream",
     "text": [
      "Enter your name : Anil\n"
     ]
    }
   ],
   "source": [
    "user_name= input('Enter your name : ')"
   ]
  },
  {
   "cell_type": "code",
   "execution_count": 57,
   "id": "7f8a4206",
   "metadata": {},
   "outputs": [
    {
     "name": "stdout",
     "output_type": "stream",
     "text": [
      "Enter Your Salary : 1000\n"
     ]
    }
   ],
   "source": [
    "User_Salary= input('Enter Your Salary : ')"
   ]
  },
  {
   "cell_type": "code",
   "execution_count": 58,
   "id": "5c297d92",
   "metadata": {},
   "outputs": [
    {
     "data": {
      "text/plain": [
       "str"
      ]
     },
     "execution_count": 58,
     "metadata": {},
     "output_type": "execute_result"
    }
   ],
   "source": [
    "type(User_Salary)"
   ]
  },
  {
   "cell_type": "code",
   "execution_count": 59,
   "id": "c6bd2086",
   "metadata": {},
   "outputs": [
    {
     "ename": "TypeError",
     "evalue": "can only concatenate str (not \"int\") to str",
     "output_type": "error",
     "traceback": [
      "\u001b[1;31m---------------------------------------------------------------------------\u001b[0m",
      "\u001b[1;31mTypeError\u001b[0m                                 Traceback (most recent call last)",
      "\u001b[1;32m~\\AppData\\Local\\Temp/ipykernel_12368/2233661667.py\u001b[0m in \u001b[0;36m<module>\u001b[1;34m\u001b[0m\n\u001b[1;32m----> 1\u001b[1;33m \u001b[0mNew_sal\u001b[0m \u001b[1;33m=\u001b[0m \u001b[0mUser_Salary\u001b[0m \u001b[1;33m+\u001b[0m \u001b[1;36m20000\u001b[0m\u001b[1;33m\u001b[0m\u001b[1;33m\u001b[0m\u001b[0m\n\u001b[0m\u001b[0;32m      2\u001b[0m \u001b[0mprint\u001b[0m\u001b[1;33m(\u001b[0m\u001b[0mNew_sal\u001b[0m\u001b[1;33m)\u001b[0m\u001b[1;33m\u001b[0m\u001b[1;33m\u001b[0m\u001b[0m\n",
      "\u001b[1;31mTypeError\u001b[0m: can only concatenate str (not \"int\") to str"
     ]
    }
   ],
   "source": [
    "New_sal = User_Salary + 20000\n",
    "print(New_sal)"
   ]
  },
  {
   "cell_type": "code",
   "execution_count": 52,
   "id": "4abe78ca",
   "metadata": {},
   "outputs": [
    {
     "name": "stdout",
     "output_type": "stream",
     "text": [
      "Enter Your Salary : 1000\n"
     ]
    }
   ],
   "source": [
    "User_Salary= int(input('Enter Your Salary : '))"
   ]
  },
  {
   "cell_type": "code",
   "execution_count": 53,
   "id": "1085008e",
   "metadata": {},
   "outputs": [],
   "source": [
    "New_sal = User_Salary + 20000"
   ]
  },
  {
   "cell_type": "code",
   "execution_count": 54,
   "id": "b9ce8c2d",
   "metadata": {},
   "outputs": [
    {
     "data": {
      "text/plain": [
       "21000"
      ]
     },
     "execution_count": 54,
     "metadata": {},
     "output_type": "execute_result"
    }
   ],
   "source": [
    "New_sal"
   ]
  },
  {
   "cell_type": "markdown",
   "id": "c43c65f2",
   "metadata": {},
   "source": [
    "###### Output"
   ]
  },
  {
   "cell_type": "markdown",
   "id": "fd071a66",
   "metadata": {},
   "source": [
    "Python uses the print() function to output data to standard output device — the screen. \n",
    "\n",
    "The function print() evaluates the expression before displaying it on the screen. \n",
    "\n",
    "The syntax for print() is:\n",
    "\n",
    "print(value)"
   ]
  },
  {
   "cell_type": "code",
   "execution_count": 60,
   "id": "0d16a978",
   "metadata": {},
   "outputs": [
    {
     "name": "stdout",
     "output_type": "stream",
     "text": [
      "Please enter your name :Anil\n",
      "User name is : Anil\n"
     ]
    }
   ],
   "source": [
    "user_name = input('Please enter your name :')\n",
    "print('User name is : ' + user_name)"
   ]
  },
  {
   "cell_type": "code",
   "execution_count": null,
   "id": "9bc2434a",
   "metadata": {},
   "outputs": [],
   "source": []
  },
  {
   "cell_type": "code",
   "execution_count": null,
   "id": "802c71e5",
   "metadata": {},
   "outputs": [],
   "source": []
  },
  {
   "cell_type": "code",
   "execution_count": null,
   "id": "87c8b046",
   "metadata": {},
   "outputs": [],
   "source": []
  },
  {
   "cell_type": "code",
   "execution_count": null,
   "id": "ef807c35",
   "metadata": {},
   "outputs": [],
   "source": []
  },
  {
   "cell_type": "code",
   "execution_count": null,
   "id": "b569ff24",
   "metadata": {},
   "outputs": [],
   "source": []
  },
  {
   "cell_type": "code",
   "execution_count": null,
   "id": "8dcea73a",
   "metadata": {},
   "outputs": [],
   "source": []
  },
  {
   "cell_type": "code",
   "execution_count": null,
   "id": "08bec407",
   "metadata": {},
   "outputs": [],
   "source": []
  },
  {
   "cell_type": "code",
   "execution_count": null,
   "id": "13add7b6",
   "metadata": {},
   "outputs": [],
   "source": []
  },
  {
   "cell_type": "markdown",
   "id": "2c4da481",
   "metadata": {},
   "source": [
    "### Sequence"
   ]
  },
  {
   "cell_type": "markdown",
   "id": "bcc85554",
   "metadata": {},
   "source": [
    "Sequence Data Type is the collection of similar or different data types in python.Sequence allow to store multiple values in organized manner."
   ]
  },
  {
   "cell_type": "markdown",
   "id": "1d9c96d1",
   "metadata": {},
   "source": [
    "###### String\n",
    "String is a collection of characters in a single quote, double-quote or triple quote.   ' '   or  \"  \" "
   ]
  },
  {
   "cell_type": "code",
   "execution_count": 70,
   "id": "4eb36832",
   "metadata": {},
   "outputs": [],
   "source": [
    "str1 = 'Python'\n",
    "str2= \"Python is very popular\""
   ]
  },
  {
   "cell_type": "code",
   "execution_count": 72,
   "id": "12c0a268",
   "metadata": {},
   "outputs": [
    {
     "data": {
      "text/plain": [
       "str"
      ]
     },
     "execution_count": 72,
     "metadata": {},
     "output_type": "execute_result"
    }
   ],
   "source": [
    "type(str2)"
   ]
  },
  {
   "cell_type": "markdown",
   "id": "fd3f623a",
   "metadata": {},
   "source": [
    "###### List\n",
    "List is an ordered collection of data. In list we can store any type of data. That can be created in square brackets[]\n"
   ]
  },
  {
   "cell_type": "raw",
   "id": "ac38343e",
   "metadata": {},
   "source": [
    "Common Method : \n",
    "Reverse :- It will reverse the entire list item order\n",
    "Append :- Append will add a given value to the list at the end (only one value).\n",
    "Insert :- The list.insert(i, element) method adds an element element to an existing list at position i. The insert() method allows us to add an element at the beginning of a list. Simply use the index 0 in the call lst.insert(0, element)\n",
    "Extend :- The extend() method increases the length of the list by the number of elements that are provided to the method. Extend will add multiple values in a list. We should add all items in square brackets.\n",
    "Pop:- Use pop to \"pop off\" an item from the list. By default pop takes off the last index, but you can also specify which index to pop off. \n"
   ]
  },
  {
   "cell_type": "markdown",
   "id": "ec5dd860",
   "metadata": {},
   "source": [
    "###### Tuple\n",
    "Tuple is also an ordered collection of data like list. However, Tuple is immutable, tuple cannot be modified after it is created. That can be created in round brackets ()."
   ]
  },
  {
   "cell_type": "code",
   "execution_count": null,
   "id": "fb77d2c2",
   "metadata": {},
   "outputs": [],
   "source": []
  },
  {
   "cell_type": "markdown",
   "id": "78addf3e",
   "metadata": {},
   "source": [
    "### Set"
   ]
  },
  {
   "cell_type": "markdown",
   "id": "aea66af7",
   "metadata": {},
   "source": [
    "A set is a collection of unordered data, means user cannot be sure at which order the items will appear. Set items are unchangeable, but user can add or remove items. But cannot replace by its order/index value. Cannot be any duplicate value in Set.  { }"
   ]
  },
  {
   "cell_type": "markdown",
   "id": "ee146d46",
   "metadata": {},
   "source": [
    "### Dictionary"
   ]
  },
  {
   "cell_type": "markdown",
   "id": "45744098",
   "metadata": {},
   "source": [
    "Dictionary in Python is an unordered collection of data. User can hold data in dictionary as key:value pair. Key-value. Each key-value pair in a Dictionary is separated by a colon:."
   ]
  },
  {
   "cell_type": "code",
   "execution_count": 67,
   "id": "51cdc58b",
   "metadata": {},
   "outputs": [],
   "source": [
    "list1=[2,3,5,4,6,7,8]"
   ]
  },
  {
   "cell_type": "code",
   "execution_count": 68,
   "id": "66b31eb7",
   "metadata": {},
   "outputs": [
    {
     "data": {
      "text/plain": [
       "7"
      ]
     },
     "execution_count": 68,
     "metadata": {},
     "output_type": "execute_result"
    }
   ],
   "source": [
    "len(list1)"
   ]
  },
  {
   "cell_type": "code",
   "execution_count": 69,
   "id": "68fde462",
   "metadata": {},
   "outputs": [
    {
     "data": {
      "text/plain": [
       "4"
      ]
     },
     "execution_count": 69,
     "metadata": {},
     "output_type": "execute_result"
    }
   ],
   "source": [
    "list1[3]"
   ]
  },
  {
   "cell_type": "code",
   "execution_count": 73,
   "id": "3e773aea",
   "metadata": {},
   "outputs": [],
   "source": [
    "set1 = {2,3,2,3,2,4}"
   ]
  },
  {
   "cell_type": "code",
   "execution_count": 75,
   "id": "a460a1d1",
   "metadata": {},
   "outputs": [
    {
     "data": {
      "text/plain": [
       "set"
      ]
     },
     "execution_count": 75,
     "metadata": {},
     "output_type": "execute_result"
    }
   ],
   "source": [
    "type(set1)"
   ]
  },
  {
   "cell_type": "code",
   "execution_count": 76,
   "id": "6b848285",
   "metadata": {},
   "outputs": [
    {
     "data": {
      "text/plain": [
       "{2, 3, 4}"
      ]
     },
     "execution_count": 76,
     "metadata": {},
     "output_type": "execute_result"
    }
   ],
   "source": [
    "set1"
   ]
  }
 ],
 "metadata": {
  "kernelspec": {
   "display_name": "Python 3 (ipykernel)",
   "language": "python",
   "name": "python3"
  },
  "language_info": {
   "codemirror_mode": {
    "name": "ipython",
    "version": 3
   },
   "file_extension": ".py",
   "mimetype": "text/x-python",
   "name": "python",
   "nbconvert_exporter": "python",
   "pygments_lexer": "ipython3",
   "version": "3.9.7"
  }
 },
 "nbformat": 4,
 "nbformat_minor": 5
}
