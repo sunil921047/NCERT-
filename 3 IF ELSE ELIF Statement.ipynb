{
 "cells": [
  {
   "cell_type": "markdown",
   "metadata": {},
   "source": [
    "# If Statement"
   ]
  },
  {
   "cell_type": "markdown",
   "metadata": {},
   "source": [
    "It is used to execute block of instructions only if a condition is fulfilled."
   ]
  },
  {
   "cell_type": "markdown",
   "metadata": {},
   "source": [
    "###### Syntax"
   ]
  },
  {
   "cell_type": "raw",
   "metadata": {},
   "source": [
    "if condition:\n",
    "    do something"
   ]
  },
  {
   "cell_type": "code",
   "execution_count": 1,
   "metadata": {},
   "outputs": [
    {
     "name": "stdout",
     "output_type": "stream",
     "text": [
      "a is greater than b\n"
     ]
    }
   ],
   "source": [
    "# If a condition is true, it'll take action; otherwise, it'll do nothing.\n",
    "a = 13\n",
    "b = 5\n",
    "\n",
    "\n",
    "if a > b:\n",
    "    print(\"a is greater than b\")"
   ]
  },
  {
   "cell_type": "code",
   "execution_count": 8,
   "metadata": {},
   "outputs": [],
   "source": [
    "# If condition not matching - then it will not run the condition code\n",
    "a = 13\n",
    "b = 5\n",
    "if a < b:\n",
    "    print(\"a is smaller than b\")"
   ]
  },
  {
   "cell_type": "code",
   "execution_count": 11,
   "metadata": {},
   "outputs": [
    {
     "name": "stdout",
     "output_type": "stream",
     "text": [
      "Enter first number : 7\n",
      "Enter second number :4\n",
      "In Given numbers num1 is greater : 7\n"
     ]
    }
   ],
   "source": [
    "num1 = int(input('Enter first number : '))\n",
    "num2 = int(input('Enter second number :'))\n",
    "\n",
    "# If num1 is greater than num2 then print - num1 is greater\n",
    "\n",
    "if num1 > num2:\n",
    "    print('In Given numbers num1 is greater :' , num1)\n",
    "   "
   ]
  },
  {
   "cell_type": "code",
   "execution_count": 12,
   "metadata": {},
   "outputs": [
    {
     "name": "stdout",
     "output_type": "stream",
     "text": [
      "Pick a lucky number between 1 and 10: 8\n"
     ]
    }
   ],
   "source": [
    "#Assigning a number to the winning_number variable\n",
    "winning_number = 6\n",
    "\n",
    "#Asking user to type in a lucky number\n",
    "num = int(input(\"Pick a lucky number between 1 and 10: \"))\n",
    "\n",
    "if num == winning_number:\n",
    "    print(\"You won!\")"
   ]
  },
  {
   "cell_type": "markdown",
   "metadata": {},
   "source": [
    "## If Else Statement"
   ]
  },
  {
   "cell_type": "markdown",
   "metadata": {},
   "source": [
    "You can assign it to perform an action if a condition is true and a different action when the condition is false; therefore, different actions can be processed based on the condition."
   ]
  },
  {
   "cell_type": "raw",
   "metadata": {},
   "source": [
    "if condition:\n",
    "    do something\n",
    "else:\n",
    "    do something else"
   ]
  },
  {
   "cell_type": "code",
   "execution_count": 15,
   "metadata": {},
   "outputs": [
    {
     "name": "stdout",
     "output_type": "stream",
     "text": [
      "Pick a lucky number between 1 and 10: 7\n",
      "We Lost\n"
     ]
    }
   ],
   "source": [
    "#Assigning a number to the winning_number variable\n",
    "winning_number = 6\n",
    "\n",
    "#Asking user to type in a lucky number\n",
    "num = int(input(\"Pick a lucky number between 1 and 10: \"))\n",
    "\n",
    "if num == winning_number:\n",
    "    print('We won')\n",
    "else:\n",
    "    print('We Lost')"
   ]
  },
  {
   "cell_type": "code",
   "execution_count": 20,
   "metadata": {},
   "outputs": [
    {
     "name": "stdout",
     "output_type": "stream",
     "text": [
      "a is greater than b\n"
     ]
    }
   ],
   "source": [
    "# Check the numbers - which one is greater\n",
    "\n",
    "a = 13\n",
    "b = 3\n",
    "\n",
    "if a < b:\n",
    "    print(\"a is smaller than b\")\n",
    "else:\n",
    "    print(\"a is greater than b\")"
   ]
  },
  {
   "cell_type": "markdown",
   "metadata": {},
   "source": [
    "## If-Elif-Else statement"
   ]
  },
  {
   "cell_type": "markdown",
   "metadata": {},
   "source": [
    "It has more than one condition, and it takes different actions depending on the condition. If all conditions do not match, it does the action of the \"else\" part."
   ]
  },
  {
   "cell_type": "markdown",
   "metadata": {},
   "source": [
    "###### Syntax"
   ]
  },
  {
   "cell_type": "raw",
   "metadata": {},
   "source": [
    "if condition:\n",
    "    action1\n",
    "elif condition:\n",
    "    action2\n",
    "else:\n",
    "    other_action"
   ]
  },
  {
   "cell_type": "code",
   "execution_count": 23,
   "metadata": {},
   "outputs": [
    {
     "name": "stdout",
     "output_type": "stream",
     "text": [
      "a is smaller than b\n"
     ]
    }
   ],
   "source": [
    "a = 13\n",
    "b = 16\n",
    "\n",
    "if a < b:\n",
    "    print(\"a is smaller than b\")\n",
    "elif a > b:\n",
    "    print(\"a is greater than b\")\n",
    "else:\n",
    "    print(\"a and b are same\")"
   ]
  },
  {
   "cell_type": "raw",
   "metadata": {},
   "source": [
    "90-100 => \"A Grade\"\n",
    "80-89 => \"B Grade\"\n",
    "70-79 => \"C Grade\"\n",
    "60-69 => \"D Grade\"\n",
    "below 60 => \"F Grade\""
   ]
  },
  {
   "cell_type": "code",
   "execution_count": 26,
   "metadata": {},
   "outputs": [
    {
     "name": "stdout",
     "output_type": "stream",
     "text": [
      "Your score(0-100): 95\n",
      "A Grade\n"
     ]
    }
   ],
   "source": [
    "score = int(input(\"Your score(0-100): \"))\n",
    "\n",
    "if score >= 90 and score <= 100:\n",
    "    print(\"A Grade\")\n",
    "elif score >= 80 and score < 90:\n",
    "    print(\"B Grade\")\n",
    "elif score >= 70 and score < 80:\n",
    "    print(\"C Grade\")\n",
    "elif score >= 60 and score < 70:\n",
    "    print(\"D Grade\")\n",
    "elif score >= 0 and score < 60:\n",
    "    print(\"F Grade\")\n",
    "else:\n",
    "    print(\"invalid score\")"
   ]
  },
  {
   "cell_type": "markdown",
   "metadata": {},
   "source": [
    "###### ELSE"
   ]
  },
  {
   "cell_type": "markdown",
   "metadata": {},
   "source": [
    "The ELSE keyword catches anything which is not caught by the preceding conditions."
   ]
  },
  {
   "cell_type": "markdown",
   "metadata": {},
   "source": [
    "###### ELIF"
   ]
  },
  {
   "cell_type": "markdown",
   "metadata": {},
   "source": [
    "The ELIF keyword says to \"If the previous condition is not true, then try this one\""
   ]
  },
  {
   "cell_type": "code",
   "execution_count": null,
   "metadata": {},
   "outputs": [],
   "source": [
    "num1 = int(input('Please enter first number  :  '))\n",
    "num2 = int(input('Please enter second number  :  '))"
   ]
  },
  {
   "cell_type": "markdown",
   "metadata": {},
   "source": [
    "###### ELIF"
   ]
  },
  {
   "cell_type": "markdown",
   "metadata": {},
   "source": [
    "The ELIF keyword says to \"If the previous condition is not true, then try this one\""
   ]
  },
  {
   "cell_type": "markdown",
   "metadata": {},
   "source": [
    "##### ELSE"
   ]
  },
  {
   "cell_type": "code",
   "execution_count": null,
   "metadata": {},
   "outputs": [],
   "source": []
  },
  {
   "cell_type": "markdown",
   "metadata": {},
   "source": [
    "The ELSE keyword catches anything which is not caught by the preceding conditions."
   ]
  },
  {
   "cell_type": "markdown",
   "metadata": {},
   "source": [
    "## Practice Questions"
   ]
  },
  {
   "cell_type": "markdown",
   "metadata": {},
   "source": [
    "###### Write a program to check whether a number entered by user is even or odd."
   ]
  },
  {
   "cell_type": "code",
   "execution_count": 3,
   "metadata": {},
   "outputs": [
    {
     "name": "stdout",
     "output_type": "stream",
     "text": [
      "Enter any number : 6\n",
      "Number is even\n"
     ]
    }
   ],
   "source": [
    "num = int(input('Enter any number : '))\n",
    "#if num%2:\n",
    "if num%2==0:\n",
    "    print('Number is even')\n",
    "else:\n",
    "    print('Number is odd')"
   ]
  },
  {
   "cell_type": "markdown",
   "metadata": {},
   "source": [
    "###### Write a program to check whether a person is eligible for voting or not. (accept age from user)"
   ]
  },
  {
   "cell_type": "code",
   "execution_count": 4,
   "metadata": {},
   "outputs": [
    {
     "name": "stdout",
     "output_type": "stream",
     "text": [
      "Enter your age :30\n",
      "Eligible for Voting\n"
     ]
    }
   ],
   "source": [
    "age = int(input('Enter your age :'))\n",
    "if age >= 18:\n",
    "    print('Eligible for Voting')\n",
    "else:\n",
    "    print('Not Eligible for voting')   "
   ]
  },
  {
   "cell_type": "markdown",
   "metadata": {},
   "source": [
    "###### Write a program to check whether a number is divisible by 7 or not."
   ]
  },
  {
   "cell_type": "code",
   "execution_count": 6,
   "metadata": {},
   "outputs": [
    {
     "name": "stdout",
     "output_type": "stream",
     "text": [
      "Enter the number :63\n",
      "Divisible by seven\n"
     ]
    }
   ],
   "source": [
    "num = int(input('Enter the number :'))\n",
    "if num % 7 == 0:\n",
    "    print('Divisible by seven')\n",
    "else:\n",
    "    print ('Not Divisible by seven')"
   ]
  },
  {
   "cell_type": "markdown",
   "metadata": {},
   "source": [
    "###### Write a program to calculate the electricity bill (accept number of unit from user) according to the following criteria :\n",
    "\n",
    "Unit                                                                   Price  \n",
    "First 100 units                                               no charge\n",
    "\n",
    "Next 100 units                                              Rs 5 per unit\n",
    "\n",
    "After 200 units                                             Rs 10 per unit\n",
    "\n",
    "(For example if input unit is 350 than total bill amount is Rs2000)"
   ]
  },
  {
   "cell_type": "code",
   "execution_count": 28,
   "metadata": {},
   "outputs": [
    {
     "name": "stdout",
     "output_type": "stream",
     "text": [
      "Enter how much unit used by user: 650\n",
      "5000\n"
     ]
    }
   ],
   "source": [
    "unit = int(input(\"Enter how much unit used by user: \"))\n",
    "\n",
    "if unit <= 100:\n",
    "    print(\"Charge = 0\")\n",
    "elif unit <= 200:\n",
    "        bill_charge = (unit -100 ) * 5 \n",
    "        print(\"Charge =\",unit)\n",
    "else:\n",
    "    bill_charge= (unit-200) * 10\n",
    "    bill_charge += 500\n",
    "print(bill_charge)    "
   ]
  },
  {
   "cell_type": "code",
   "execution_count": 38,
   "metadata": {},
   "outputs": [
    {
     "name": "stdout",
     "output_type": "stream",
     "text": [
      "Enter your Units :90\n",
      "No Charges for you\n"
     ]
    }
   ],
   "source": [
    "#units = int(input('Enter your Units :'))\n",
    "\n",
    "#if units <= 100:\n",
    "#    print('No Charges for you')"
   ]
  },
  {
   "cell_type": "markdown",
   "metadata": {},
   "source": [
    "#### Write a programme to operate an ATM Machine"
   ]
  },
  {
   "cell_type": "code",
   "execution_count": 29,
   "metadata": {},
   "outputs": [
    {
     "name": "stdout",
     "output_type": "stream",
     "text": [
      "Please enter the desired amount : 650\n",
      "Incorrect Amount Entered : Please enter amount divisible by hundred \n"
     ]
    }
   ],
   "source": [
    "amount = int(input('Please enter the desired amount : '))\n",
    "if amount%100 != 0:\n",
    "    print(\"Incorrect Amount Entered : Please enter amount divisible by hundred \")\n",
    "elif amount < 100:\n",
    "    print(\"Incorrect Amount Entered : Please enter amount equal or greather than hundred\")\n",
    "elif amount//500 >= 1:\n",
    "    print(\"You will get \" + str(amount//500) + ' five hundred rupees notes')\n",
    "    if amount%500 >= 100:\n",
    "        print(\"You will get \" + str(int(((amount%500)/100))) + ' one hundred rupees notes')\n",
    "else:\n",
    "    print(\"You will get \" + str(int(((amount%500)/100))) + ' one hundred rupees notes')"
   ]
  },
  {
   "cell_type": "markdown",
   "metadata": {},
   "source": [
    "#### Write a code to check given string is a Palidrom OR not"
   ]
  },
  {
   "cell_type": "code",
   "execution_count": null,
   "metadata": {},
   "outputs": [],
   "source": [
    "string = str(input(\"Please enter a string : \"))\n",
    "rev_string = string[::-1]\n",
    "rev_string\n",
    "if string == rev_string:\n",
    "    print(\"Given string is a Palidrome\")\n",
    "else:\n",
    "    print(\"Given string is not a Palidrome\")"
   ]
  }
 ],
 "metadata": {
  "kernelspec": {
   "display_name": "Python 3 (ipykernel)",
   "language": "python",
   "name": "python3"
  },
  "language_info": {
   "codemirror_mode": {
    "name": "ipython",
    "version": 3
   },
   "file_extension": ".py",
   "mimetype": "text/x-python",
   "name": "python",
   "nbconvert_exporter": "python",
   "pygments_lexer": "ipython3",
   "version": "3.9.7"
  }
 },
 "nbformat": 4,
 "nbformat_minor": 2
}
